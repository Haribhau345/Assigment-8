{
 "cells": [
  {
   "cell_type": "code",
   "execution_count": null,
   "id": "aa688ffb",
   "metadata": {},
   "outputs": [],
   "source": [
    "#1. No, the Python Standard Library is not included with PyInputPlus.\n",
    "#PyInputPlus is a separate third-party library that provides additional functionality for taking user input in Python.\n"
   ]
  },
  {
   "cell_type": "code",
   "execution_count": null,
   "id": "c92455a3",
   "metadata": {},
   "outputs": [],
   "source": [
    "#2. PyInputPlus is commonly imported with the alias `pypi` to make it easier and quicker to reference the library throughout the code.\n"
   ]
  },
  {
   "cell_type": "code",
   "execution_count": null,
   "id": "33f24823",
   "metadata": {},
   "outputs": [],
   "source": [
    "#3. `inputInt()` is used for taking integer input,\n",
    "#while `inputFloat()` is used for taking floating-point number input."
   ]
  },
  {
   "cell_type": "code",
   "execution_count": null,
   "id": "362c94f7",
   "metadata": {},
   "outputs": [],
   "source": [
    "#4. To ensure that the user enters a whole number between 0 and 99 using PyInputPlus, \n",
    "#we can use the `inputInt()` function along with the `min` and `max` keyword arguments, \n",
    "inputInt(min=0, max=99)"
   ]
  },
  {
   "cell_type": "code",
   "execution_count": null,
   "id": "cb90c5d4",
   "metadata": {},
   "outputs": [],
   "source": [
    "#5.The keyword arguments `allowRegexes` and `blockRegexes` are used to specify regular expressions \n",
    "#that either allow or block certain types of input from the user.\n",
    "#allowRegexes specifies a list of regular expressions that the user's input must match to be considered valid,\n",
    "#while `blockRegexes` specifies a list of regular expressions that the user's input must not match to be considered valid.\n"
   ]
  },
  {
   "cell_type": "code",
   "execution_count": null,
   "id": "a913ab08",
   "metadata": {},
   "outputs": [],
   "source": [
    "#6.If a blank input is entered three times with the inputStr(limit=3) function\n",
    "#the function will raise a `TimeoutException`, indicating that the user has exceeded the allowed number of attempts to enter a non-blank input.\n"
   ]
  },
  {
   "cell_type": "code",
   "execution_count": null,
   "id": "136665cd",
   "metadata": {},
   "outputs": [],
   "source": [
    "#7. If a blank input is entered three times with the \n",
    "inputStr(limit=3, default='hello')\n",
    "#function, the function will return the default value of `'hello'\n",
    "#since the user has exceeded the allowed number of attempts to enter a non-blank input."
   ]
  }
 ],
 "metadata": {
  "kernelspec": {
   "display_name": "Python 3 (ipykernel)",
   "language": "python",
   "name": "python3"
  },
  "language_info": {
   "codemirror_mode": {
    "name": "ipython",
    "version": 3
   },
   "file_extension": ".py",
   "mimetype": "text/x-python",
   "name": "python",
   "nbconvert_exporter": "python",
   "pygments_lexer": "ipython3",
   "version": "3.9.13"
  }
 },
 "nbformat": 4,
 "nbformat_minor": 5
}
